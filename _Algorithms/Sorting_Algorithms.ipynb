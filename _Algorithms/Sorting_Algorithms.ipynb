{
  "cells": [
    {
      "cell_type": "markdown",
      "source": [
        "Sorting Algorithms"
      ],
      "metadata": {
        "noteable": {
          "cell_type": "markdown"
        }
      },
      "id": "4546436a-1d8a-4d32-b11f-6234adf803d4"
    },
    {
      "cell_type": "code",
      "source": [
        "def bubble_sort(arr):\n",
        "    n = len(arr)\n",
        "    for i in range(n):\n",
        "        for j in range(0, n-i-1):\n",
        "            if arr[j] > arr[j+1] :\n",
        "                arr[j], arr[j+1] = arr[j+1], arr[j]\n",
        "    return arr\n",
        "\n",
        "test_array = [64, 34, 25, 12, 22, 11, 90]\n",
        "bubble_sort(test_array)"
      ],
      "outputs": [
        {
          "output_type": "execute_result",
          "execution_count": null,
          "data": {
            "text/plain": "[11, 12, 22, 25, 34, 64, 90]"
          },
          "metadata": {}
        }
      ],
      "execution_count": null,
      "metadata": {
        "jupyter": {
          "outputs_hidden": false,
          "source_hidden": false
        },
        "noteable": {
          "cell_type": "code"
        },
        "ExecuteTime": {
          "end_time": "2023-05-26T02:25:29.377892+00:00",
          "start_time": "2023-05-26T02:25:29.213711+00:00"
        }
      },
      "id": "f10dddb3-3982-476f-ab5f-efadf2306fe1"
    },
    {
      "cell_type": "code",
      "source": [
        "def insertion_sort(arr):\n",
        "    for i in range(1, len(arr)):\n",
        "        key = arr[i]\n",
        "        j = i-1\n",
        "        while j >=0 and key < arr[j] :\n",
        "                arr[j+1] = arr[j]\n",
        "                j -= 1\n",
        "        arr[j+1] = key\n",
        "    return arr\n",
        "\n",
        "test_array = [64, 34, 25, 12, 22, 11, 90]\n",
        "insertion_sort(test_array)"
      ],
      "outputs": [
        {
          "output_type": "execute_result",
          "execution_count": null,
          "data": {
            "text/plain": "[11, 12, 22, 25, 34, 64, 90]"
          },
          "metadata": {}
        }
      ],
      "execution_count": null,
      "metadata": {
        "jupyter": {
          "outputs_hidden": false,
          "source_hidden": false
        },
        "noteable": {
          "cell_type": "code"
        },
        "ExecuteTime": {
          "end_time": "2023-05-26T02:25:53.040736+00:00",
          "start_time": "2023-05-26T02:25:52.879748+00:00"
        }
      },
      "id": "52eaf41d-5de4-4c97-b8dd-655d68b03537"
    },
    {
      "cell_type": "code",
      "source": [
        "def selection_sort(arr):\n",
        "    for i in range(len(arr)):\n",
        "        min_idx = i\n",
        "        for j in range(i+1, len(arr)):\n",
        "            if arr[min_idx] > arr[j]:\n",
        "                min_idx = j\n",
        "        arr[i], arr[min_idx] = arr[min_idx], arr[i]\n",
        "    return arr\n",
        "\n",
        "test_array = [64, 34, 25, 12, 22, 11, 90]\n",
        "selection_sort(test_array)"
      ],
      "outputs": [
        {
          "output_type": "execute_result",
          "execution_count": null,
          "data": {
            "text/plain": "[11, 12, 22, 25, 34, 64, 90]"
          },
          "metadata": {}
        }
      ],
      "execution_count": null,
      "metadata": {
        "jupyter": {
          "outputs_hidden": false,
          "source_hidden": false
        },
        "noteable": {
          "cell_type": "code"
        },
        "ExecuteTime": {
          "end_time": "2023-05-26T02:26:18.217318+00:00",
          "start_time": "2023-05-26T02:26:18.053295+00:00"
        }
      },
      "id": "4ad7f70e-f84f-4e5b-a50e-f100ea1aa153"
    },
    {
      "cell_type": "code",
      "source": [
        "def merge_sort(arr):\n",
        "    if len(arr) <= 1:\n",
        "        return arr\n",
        "    mid = len(arr) // 2\n",
        "    left = merge_sort(arr[:mid])\n",
        "    right = merge_sort(arr[mid:])\n",
        "    return merge(left, right)\n",
        "\n",
        "def merge(left, right):\n",
        "    if not left:\n",
        "        return right\n",
        "    if not right:\n",
        "        return left\n",
        "    if left[0] < right[0]:\n",
        "        return [left[0]] + merge(left[1:], right)\n",
        "    return [right[0]] + merge(left, right[1:])\n",
        "\n",
        "test_array = [64, 34, 25, 12, 22, 11, 90]\n",
        "merge_sort(test_array)"
      ],
      "outputs": [
        {
          "output_type": "execute_result",
          "execution_count": null,
          "data": {
            "text/plain": "[11, 12, 22, 25, 34, 64, 90]"
          },
          "metadata": {}
        }
      ],
      "execution_count": null,
      "metadata": {
        "jupyter": {
          "outputs_hidden": false,
          "source_hidden": false
        },
        "noteable": {
          "cell_type": "code"
        },
        "ExecuteTime": {
          "end_time": "2023-05-26T02:26:51.892703+00:00",
          "start_time": "2023-05-26T02:26:51.728713+00:00"
        }
      },
      "id": "52310555-deff-4058-9efa-61d75f213e90"
    },
    {
      "cell_type": "code",
      "source": [
        "def partition(arr, low, high):\n",
        "    i = (low-1)\n",
        "    pivot = arr[high]\n",
        "    for j in range(low, high):\n",
        "        if arr[j] <= pivot:\n",
        "            i = i+1\n",
        "            arr[i], arr[j] = arr[j], arr[i]\n",
        "    arr[i+1], arr[high] = arr[high], arr[i+1]\n",
        "    return (i+1)\n",
        "\n",
        "def quick_sort(arr, low, high):\n",
        "    if len(arr) == 1:\n",
        "        return arr\n",
        "    if low < high:\n",
        "        pi = partition(arr, low, high)\n",
        "        quick_sort(arr, low, pi-1)\n",
        "        quick_sort(arr, pi+1, high)\n",
        "    return arr\n",
        "\n",
        "test_array = [64, 34, 25, 12, 22, 11, 90]\n",
        "n = len(test_array)\n",
        "quick_sort(test_array, 0, n-1)"
      ],
      "outputs": [
        {
          "output_type": "execute_result",
          "execution_count": null,
          "data": {
            "text/plain": "[11, 12, 22, 25, 34, 64, 90]"
          },
          "metadata": {}
        }
      ],
      "execution_count": null,
      "metadata": {
        "jupyter": {
          "outputs_hidden": false,
          "source_hidden": false
        },
        "noteable": {
          "cell_type": "code"
        },
        "ExecuteTime": {
          "end_time": "2023-05-26T02:27:35.412044+00:00",
          "start_time": "2023-05-26T02:27:35.248645+00:00"
        }
      },
      "id": "22fa7dd4-fcf4-4ce5-a169-b90d534c19c6"
    },
    {
      "cell_type": "code",
      "source": [
        "def counting_sort(arr, exp1):\n",
        "    n = len(arr)\n",
        "    output = [0] * (n)\n",
        "    count = [0] * (10)\n",
        "    for i in range(0, n):\n",
        "        index = (arr[i]//exp1)\n",
        "        count[ (index)%10 ] += 1\n",
        "    for i in range(1,10):\n",
        "        count[i] += count[i-1]\n",
        "    i = n-1\n",
        "    while i>=0:\n",
        "        index = (arr[i]//exp1)\n",
        "        output[ count[ (index)%10 ] - 1] = arr[i]\n",
        "        count[ (index)%10 ] -= 1\n",
        "        i -= 1\n",
        "    i = 0\n",
        "    for i in range(0,len(arr)):\n",
        "        arr[i] = output[i]\n",
        "\n",
        "def radix_sort(arr):\n",
        "    max1 = max(arr)\n",
        "    exp = 1\n",
        "    while max1/exp > 0:\n",
        "        counting_sort(arr,exp)\n",
        "        exp *= 10\n",
        "    return arr\n",
        "\n",
        "test_array = [64, 34, 25, 12, 22, 11, 90]\n",
        "radix_sort(test_array)"
      ],
      "outputs": [
        {
          "output_type": "execute_result",
          "execution_count": null,
          "data": {
            "text/plain": "[11, 12, 22, 25, 34, 64, 90]"
          },
          "metadata": {}
        }
      ],
      "execution_count": null,
      "metadata": {
        "jupyter": {
          "outputs_hidden": false,
          "source_hidden": false
        },
        "noteable": {
          "cell_type": "code"
        },
        "ExecuteTime": {
          "end_time": "2023-05-26T02:28:19.226475+00:00",
          "start_time": "2023-05-26T02:28:19.060070+00:00"
        }
      },
      "id": "36bc6855-ad5f-43cf-a760-88a70ca6831b"
    },
    {
      "cell_type": "code",
      "source": [
        "import random\n",
        "\n",
        "def bogo_sort(arr):\n",
        "    while not is_sorted(arr):\n",
        "        random.shuffle(arr)\n",
        "    return arr\n",
        "\n",
        "def is_sorted(arr):\n",
        "    n = len(arr)\n",
        "    for i in range(0, n-1):\n",
        "        if (arr[i] > arr[i+1] ):\n",
        "            return False\n",
        "    return True\n",
        "\n",
        "test_array = [64, 34, 25, 12, 22, 11, 90]\n",
        "bogo_sort(test_array)"
      ],
      "outputs": [
        {
          "output_type": "execute_result",
          "execution_count": null,
          "data": {
            "text/plain": "[11, 12, 22, 25, 34, 64, 90]"
          },
          "metadata": {}
        }
      ],
      "execution_count": null,
      "metadata": {
        "jupyter": {
          "outputs_hidden": false,
          "source_hidden": false
        },
        "noteable": {
          "cell_type": "code"
        },
        "ExecuteTime": {
          "end_time": "2023-05-26T02:28:48.292456+00:00",
          "start_time": "2023-05-26T02:28:48.122486+00:00"
        }
      },
      "id": "1c13a7f7-f0cd-48eb-834e-286a31c816ac"
    },
    {
      "cell_type": "code",
      "source": [
        "import matplotlib.pyplot as plt\n",
        "\n",
        "def plot_array(arr):\n",
        "    plt.bar(range(len(arr)), arr)\n",
        "    plt.show()\n",
        "\n",
        "test_array = [64, 34, 25, 12, 22, 11, 90]\n",
        "print(\"test array\")\n",
        "plot_array(test_array)"
      ],
      "outputs": [
        {
          "output_type": "stream",
          "name": "stdout",
          "text": [
            "test array\n"
          ]
        },
        {
          "output_type": "display_data",
          "data": {
            "image/png": "[encoded data removed]"
          },
          "metadata": {}
        }
      ],
      "execution_count": null,
      "metadata": {
        "jupyter": {
          "outputs_hidden": false,
          "source_hidden": false
        },
        "noteable": {
          "cell_type": "code"
        },
        "ExecuteTime": {
          "start_time": "2023-06-28T07:29:27.701149+00:00",
          "end_time": "2023-06-28T07:29:28.123217+00:00"
        }
      },
      "id": "0283b036-c8a6-473d-a633-85e83ca76ad0"
    },
    {
      "cell_type": "code",
      "source": [
        "import matplotlib.pyplot as plt\n",
        "\n",
        "def plot_array(arr):\n",
        "    plt.bar(range(len(arr)), arr)\n",
        "    plt.show()\n",
        "\n",
        "sorted_array = [11, 12, 22, 25, 34, 64, 90]\n",
        "print(\"Sorted:\")\n",
        "plot_array(sorted_array)"
      ],
      "outputs": [
        {
          "output_type": "stream",
          "name": "stdout",
          "text": [
            "Sorted:\n"
          ]
        },
        {
          "output_type": "display_data",
          "data": {
            "image/png": "[encoded data removed]"
          },
          "metadata": {}
        }
      ],
      "execution_count": null,
      "metadata": {
        "jupyter": {
          "source_hidden": false,
          "outputs_hidden": false
        },
        "noteable": {
          "cell_type": "code"
        },
        "ExecuteTime": {
          "start_time": "2023-06-28T07:28:51.172719+00:00",
          "end_time": "2023-06-28T07:28:51.695122+00:00"
        }
      },
      "id": "7ec641f2-8ce6-4a72-8072-909c94906bc9"
    }
  ],
  "metadata": {
    "noteable-chatgpt": {
      "create_notebook": {
        "openai_conversation_id": "6f8dd2e0-3da2-5bfb-b603-81ca716f9d99",
        "openai_ephemeral_user_id": "3bd3f0ec-bab1-5f61-b6d7-aefbc4fae227",
        "openai_subdivision1_iso_code": "BG-22"
      }
    },
    "noteable": {
      "last_transaction_id": "e9b6cce8-e7b6-4d41-9eb4-a19b49a957ab",
      "last_delta_id": "648a6d43-f15c-4983-a166-f7865c313238"
    },
    "selected_hardware_size": "small",
    "nteract": {
      "version": "noteable@2.9.0"
    }
  },
  "nbformat": 4,
  "nbformat_minor": 5
}